{
 "cells": [
  {
   "cell_type": "code",
   "execution_count": 2,
   "id": "6e61b1cd",
   "metadata": {},
   "outputs": [
    {
     "name": "stdout",
     "output_type": "stream",
     "text": [
      "Looking in indexes: https://mirrors.aliyun.com/pypi/simple/\n",
      "Requirement already satisfied: pyecharts==0.1.9.4 in d:\\anaconda\\lib\\site-packages (0.1.9.4)\n",
      "Requirement already satisfied: future in d:\\anaconda\\lib\\site-packages (from pyecharts==0.1.9.4) (0.18.3)\n",
      "Requirement already satisfied: jinja2 in d:\\anaconda\\lib\\site-packages (from pyecharts==0.1.9.4) (3.1.2)\n",
      "Requirement already satisfied: pillow in d:\\anaconda\\lib\\site-packages (from pyecharts==0.1.9.4) (9.4.0)\n",
      "Requirement already satisfied: MarkupSafe>=2.0 in d:\\anaconda\\lib\\site-packages (from jinja2->pyecharts==0.1.9.4) (2.1.1)\n"
     ]
    }
   ],
   "source": [
    "!pip install pyecharts==0.1.9.4 -i \"https://mirrors.aliyun.com/pypi/simple/\""
   ]
  },
  {
   "cell_type": "code",
   "execution_count": 31,
   "id": "ecf52a09",
   "metadata": {},
   "outputs": [],
   "source": [
    "#引入出具分析库\n",
    "\n",
    "import pandas as pd\n",
    "import numpy as np\n",
    "from matplotlib import pyplot as plt\n",
    "import time"
   ]
  },
  {
   "cell_type": "code",
   "execution_count": 45,
   "id": "6678f113",
   "metadata": {},
   "outputs": [],
   "source": [
    "data = pd.read_csv(r'D:/学习/项目练习/淘宝用户行为分析/UserBehavior.csv',nrows=1999999) \n",
    "data.to_csv('D:/学习/项目练习/淘宝用户行为分析/UserBehavior_1.csv')"
   ]
  },
  {
   "cell_type": "code",
   "execution_count": 47,
   "id": "1c765720",
   "metadata": {},
   "outputs": [
    {
     "data": {
      "text/html": [
       "<div>\n",
       "<style scoped>\n",
       "    .dataframe tbody tr th:only-of-type {\n",
       "        vertical-align: middle;\n",
       "    }\n",
       "\n",
       "    .dataframe tbody tr th {\n",
       "        vertical-align: top;\n",
       "    }\n",
       "\n",
       "    .dataframe thead th {\n",
       "        text-align: right;\n",
       "    }\n",
       "</style>\n",
       "<table border=\"1\" class=\"dataframe\">\n",
       "  <thead>\n",
       "    <tr style=\"text-align: right;\">\n",
       "      <th></th>\n",
       "      <th>User_Id</th>\n",
       "      <th>Item_Id</th>\n",
       "      <th>Category_Id</th>\n",
       "      <th>Behavior_type</th>\n",
       "      <th>Timestamp</th>\n",
       "    </tr>\n",
       "  </thead>\n",
       "  <tbody>\n",
       "    <tr>\n",
       "      <th>0</th>\n",
       "      <td>1</td>\n",
       "      <td>2268318</td>\n",
       "      <td>2520377</td>\n",
       "      <td>pv</td>\n",
       "      <td>1511544070</td>\n",
       "    </tr>\n",
       "    <tr>\n",
       "      <th>1</th>\n",
       "      <td>1</td>\n",
       "      <td>2333346</td>\n",
       "      <td>2520771</td>\n",
       "      <td>pv</td>\n",
       "      <td>1511561733</td>\n",
       "    </tr>\n",
       "    <tr>\n",
       "      <th>2</th>\n",
       "      <td>1</td>\n",
       "      <td>2576651</td>\n",
       "      <td>149192</td>\n",
       "      <td>pv</td>\n",
       "      <td>1511572885</td>\n",
       "    </tr>\n",
       "    <tr>\n",
       "      <th>3</th>\n",
       "      <td>1</td>\n",
       "      <td>3830808</td>\n",
       "      <td>4181361</td>\n",
       "      <td>pv</td>\n",
       "      <td>1511593493</td>\n",
       "    </tr>\n",
       "    <tr>\n",
       "      <th>4</th>\n",
       "      <td>1</td>\n",
       "      <td>4365585</td>\n",
       "      <td>2520377</td>\n",
       "      <td>pv</td>\n",
       "      <td>1511596146</td>\n",
       "    </tr>\n",
       "  </tbody>\n",
       "</table>\n",
       "</div>"
      ],
      "text/plain": [
       "   User_Id  Item_Id  Category_Id Behavior_type   Timestamp\n",
       "0        1  2268318      2520377            pv  1511544070\n",
       "1        1  2333346      2520771            pv  1511561733\n",
       "2        1  2576651       149192            pv  1511572885\n",
       "3        1  3830808      4181361            pv  1511593493\n",
       "4        1  4365585      2520377            pv  1511596146"
      ]
     },
     "execution_count": 47,
     "metadata": {},
     "output_type": "execute_result"
    }
   ],
   "source": [
    "# 数据读取\n",
    "\n",
    "file_path =r\"D:/学习/项目练习/淘宝用户行为分析/UserBehavior_1.csv\"\n",
    "data=pd.read_csv(file_path,header=None,index_col=None)\n",
    "data.columns=['User_Id','Item_Id','Category_Id','Behavior_type','Timestamp']\n",
    "data.head(5)"
   ]
  },
  {
   "cell_type": "code",
   "execution_count": 48,
   "id": "c1c9aef0",
   "metadata": {},
   "outputs": [
    {
     "name": "stdout",
     "output_type": "stream",
     "text": [
      "False    1048576\n",
      "Name: Timestamp, dtype: int64\n",
      "False    1048576\n",
      "Name: Item_Id, dtype: int64\n"
     ]
    }
   ],
   "source": [
    "# 一、数据读取和数据清洗\n",
    "# 1.检查空值 ---检查结果数据无空值\n",
    "print(pd.isnull(data[\"Timestamp\"]).value_counts())\n",
    "print(pd.isnull(data[\"Item_Id\"]).value_counts())"
   ]
  },
  {
   "cell_type": "code",
   "execution_count": 49,
   "id": "00eb3c87",
   "metadata": {},
   "outputs": [
    {
     "name": "stdout",
     "output_type": "stream",
     "text": [
      "Empty DataFrame\n",
      "Columns: [User_Id, Item_Id, Category_Id, Behavior_type, Timestamp]\n",
      "Index: []\n",
      "pv      940047\n",
      "cart     57861\n",
      "fav      29353\n",
      "buy      21315\n",
      "Name: Behavior_type, dtype: int64\n",
      "Empty DataFrame\n",
      "Columns: [User_Id, Item_Id, Category_Id, Behavior_type, Timestamp]\n",
      "Index: []\n",
      "pv      940047\n",
      "cart     57861\n",
      "fav      29353\n",
      "buy      21315\n",
      "Name: Behavior_type, dtype: int64\n",
      "<class 'pandas.core.frame.DataFrame'>\n",
      "Int64Index: 1048576 entries, 0 to 1048575\n",
      "Data columns (total 5 columns):\n",
      " #   Column         Non-Null Count    Dtype \n",
      "---  ------         --------------    ----- \n",
      " 0   User_Id        1048576 non-null  int64 \n",
      " 1   Item_Id        1048576 non-null  int64 \n",
      " 2   Category_Id    1048576 non-null  int64 \n",
      " 3   Behavior_type  1048576 non-null  object\n",
      " 4   Timestamp      1048576 non-null  int64 \n",
      "dtypes: int64(4), object(1)\n",
      "memory usage: 48.0+ MB\n",
      "None\n"
     ]
    },
    {
     "data": {
      "text/html": [
       "<div>\n",
       "<style scoped>\n",
       "    .dataframe tbody tr th:only-of-type {\n",
       "        vertical-align: middle;\n",
       "    }\n",
       "\n",
       "    .dataframe tbody tr th {\n",
       "        vertical-align: top;\n",
       "    }\n",
       "\n",
       "    .dataframe thead th {\n",
       "        text-align: right;\n",
       "    }\n",
       "</style>\n",
       "<table border=\"1\" class=\"dataframe\">\n",
       "  <thead>\n",
       "    <tr style=\"text-align: right;\">\n",
       "      <th></th>\n",
       "      <th>User_Id</th>\n",
       "      <th>Item_Id</th>\n",
       "      <th>Category_Id</th>\n",
       "      <th>Behavior_type</th>\n",
       "      <th>Timestamp</th>\n",
       "    </tr>\n",
       "  </thead>\n",
       "  <tbody>\n",
       "    <tr>\n",
       "      <th>0</th>\n",
       "      <td>1</td>\n",
       "      <td>2268318</td>\n",
       "      <td>2520377</td>\n",
       "      <td>pv</td>\n",
       "      <td>1511544070</td>\n",
       "    </tr>\n",
       "    <tr>\n",
       "      <th>1</th>\n",
       "      <td>1</td>\n",
       "      <td>2333346</td>\n",
       "      <td>2520771</td>\n",
       "      <td>pv</td>\n",
       "      <td>1511561733</td>\n",
       "    </tr>\n",
       "    <tr>\n",
       "      <th>2</th>\n",
       "      <td>1</td>\n",
       "      <td>2576651</td>\n",
       "      <td>149192</td>\n",
       "      <td>pv</td>\n",
       "      <td>1511572885</td>\n",
       "    </tr>\n",
       "    <tr>\n",
       "      <th>3</th>\n",
       "      <td>1</td>\n",
       "      <td>3830808</td>\n",
       "      <td>4181361</td>\n",
       "      <td>pv</td>\n",
       "      <td>1511593493</td>\n",
       "    </tr>\n",
       "    <tr>\n",
       "      <th>4</th>\n",
       "      <td>1</td>\n",
       "      <td>4365585</td>\n",
       "      <td>2520377</td>\n",
       "      <td>pv</td>\n",
       "      <td>1511596146</td>\n",
       "    </tr>\n",
       "  </tbody>\n",
       "</table>\n",
       "</div>"
      ],
      "text/plain": [
       "   User_Id  Item_Id  Category_Id Behavior_type   Timestamp\n",
       "0        1  2268318      2520377            pv  1511544070\n",
       "1        1  2333346      2520771            pv  1511561733\n",
       "2        1  2576651       149192            pv  1511572885\n",
       "3        1  3830808      4181361            pv  1511593493\n",
       "4        1  4365585      2520377            pv  1511596146"
      ]
     },
     "execution_count": 49,
     "metadata": {},
     "output_type": "execute_result"
    }
   ],
   "source": [
    "# 2.检查异常值\n",
    "# 1）Timestamp存在负值\n",
    "print(data[data[\"Timestamp\"]<0])\n",
    "data = data[data[\"Timestamp\"]>0]\n",
    "# 2）Behavior_type存在异常值\n",
    "print(data[\"Behavior_type\"].value_counts())\n",
    "data = data[data[\"Behavior_type\"]!=\"3\"]\n",
    "# 3）检查异常处理结果\n",
    "print(data[data[\"Timestamp\"]<0])\n",
    "print(data[\"Behavior_type\"].value_counts())\n",
    "\n",
    "print(data.info())  # [19999969 rows x 5 columns]\n",
    "data.head()"
   ]
  },
  {
   "cell_type": "code",
   "execution_count": 50,
   "id": "3c4a304f",
   "metadata": {},
   "outputs": [
    {
     "name": "stdout",
     "output_type": "stream",
     "text": [
      "2017-12-02    144414\n",
      "2017-12-03    143650\n",
      "2017-12-01    114352\n",
      "2017-11-26    111973\n",
      "2017-11-30    110774\n",
      "2017-11-25    109334\n",
      "2017-11-29    107065\n",
      "2017-11-28    103869\n",
      "2017-11-27    102634\n",
      "Name: Date, dtype: int64\n"
     ]
    }
   ],
   "source": [
    "# 3.时间戳转换时间单位\n",
    "data.loc[:,'Timestamp']=data['Timestamp'].apply(lambda x: time.strftime(\"%Y-%m-%d %H:%M:%S\", time.localtime(x)))\n",
    "data.loc[:,'Date']=data['Timestamp'].apply(lambda x:x.split(' ')[0])\n",
    "data.loc[:,'Time']=data['Timestamp'].apply(lambda x:x.split(' ')[1])\n",
    "# 只取2017年11月25日至2017年12月3日之间的数据进行研究\n",
    "# print(data[\"Date\"].value_counts())\n",
    "cleaned_data=data[(data[\"Date\"]>='2017-11-25')&(data[\"Date\"]<='2017-12-03')]\n",
    "print(cleaned_data[\"Date\"].value_counts())"
   ]
  },
  {
   "cell_type": "code",
   "execution_count": 51,
   "id": "93907526",
   "metadata": {},
   "outputs": [
    {
     "name": "stdout",
     "output_type": "stream",
     "text": [
      "False    1048065\n",
      "dtype: int64\n",
      "False    1048065\n",
      "dtype: int64\n"
     ]
    }
   ],
   "source": [
    "# 4.去除重复数据\n",
    "print(cleaned_data.duplicated().value_counts())\n",
    "cleaned_data=cleaned_data.drop_duplicates(subset=['User_Id','Item_Id','Category_Id','Behavior_type','Timestamp'],keep='first')\n",
    "print(cleaned_data.duplicated().value_counts())"
   ]
  },
  {
   "cell_type": "code",
   "execution_count": 52,
   "id": "41d649d6",
   "metadata": {},
   "outputs": [
    {
     "name": "stdout",
     "output_type": "stream",
     "text": [
      "False    1048065\n",
      "dtype: int64\n"
     ]
    }
   ],
   "source": [
    "# 5.预处理数据保存\n",
    "cleaned_data.to_csv(r'D:\\学习\\项目练习\\淘宝用户行为分析\\cleaned_data.csv', encoding = 'utf-8', index = False)\n",
    "print(cleaned_data.duplicated().value_counts())"
   ]
  },
  {
   "cell_type": "code",
   "execution_count": 54,
   "id": "3fc838dc",
   "metadata": {},
   "outputs": [
    {
     "data": {
      "text/html": [
       "<div>\n",
       "<style scoped>\n",
       "    .dataframe tbody tr th:only-of-type {\n",
       "        vertical-align: middle;\n",
       "    }\n",
       "\n",
       "    .dataframe tbody tr th {\n",
       "        vertical-align: top;\n",
       "    }\n",
       "\n",
       "    .dataframe thead th {\n",
       "        text-align: right;\n",
       "    }\n",
       "</style>\n",
       "<table border=\"1\" class=\"dataframe\">\n",
       "  <thead>\n",
       "    <tr style=\"text-align: right;\">\n",
       "      <th></th>\n",
       "      <th>User_Id</th>\n",
       "      <th>Item_Id</th>\n",
       "      <th>Category_Id</th>\n",
       "      <th>Behavior_type</th>\n",
       "      <th>Timestamp</th>\n",
       "      <th>Date</th>\n",
       "      <th>Time</th>\n",
       "    </tr>\n",
       "  </thead>\n",
       "  <tbody>\n",
       "    <tr>\n",
       "      <th>0</th>\n",
       "      <td>1</td>\n",
       "      <td>2268318</td>\n",
       "      <td>2520377</td>\n",
       "      <td>pv</td>\n",
       "      <td>2017/11/25 1:21</td>\n",
       "      <td>2017/11/25</td>\n",
       "      <td>1:21:10</td>\n",
       "    </tr>\n",
       "    <tr>\n",
       "      <th>1</th>\n",
       "      <td>1</td>\n",
       "      <td>2333346</td>\n",
       "      <td>2520771</td>\n",
       "      <td>pv</td>\n",
       "      <td>2017/11/25 6:15</td>\n",
       "      <td>2017/11/25</td>\n",
       "      <td>6:15:33</td>\n",
       "    </tr>\n",
       "    <tr>\n",
       "      <th>2</th>\n",
       "      <td>1</td>\n",
       "      <td>2576651</td>\n",
       "      <td>149192</td>\n",
       "      <td>pv</td>\n",
       "      <td>2017/11/25 9:21</td>\n",
       "      <td>2017/11/25</td>\n",
       "      <td>9:21:25</td>\n",
       "    </tr>\n",
       "    <tr>\n",
       "      <th>3</th>\n",
       "      <td>1</td>\n",
       "      <td>3830808</td>\n",
       "      <td>4181361</td>\n",
       "      <td>pv</td>\n",
       "      <td>2017/11/25 15:04</td>\n",
       "      <td>2017/11/25</td>\n",
       "      <td>15:04:53</td>\n",
       "    </tr>\n",
       "    <tr>\n",
       "      <th>4</th>\n",
       "      <td>1</td>\n",
       "      <td>4365585</td>\n",
       "      <td>2520377</td>\n",
       "      <td>pv</td>\n",
       "      <td>2017/11/25 15:49</td>\n",
       "      <td>2017/11/25</td>\n",
       "      <td>15:49:06</td>\n",
       "    </tr>\n",
       "  </tbody>\n",
       "</table>\n",
       "</div>"
      ],
      "text/plain": [
       "   User_Id  Item_Id  Category_Id Behavior_type         Timestamp        Date  \\\n",
       "0        1  2268318      2520377            pv   2017/11/25 1:21  2017/11/25   \n",
       "1        1  2333346      2520771            pv   2017/11/25 6:15  2017/11/25   \n",
       "2        1  2576651       149192            pv   2017/11/25 9:21  2017/11/25   \n",
       "3        1  3830808      4181361            pv  2017/11/25 15:04  2017/11/25   \n",
       "4        1  4365585      2520377            pv  2017/11/25 15:49  2017/11/25   \n",
       "\n",
       "       Time  \n",
       "0   1:21:10  \n",
       "1   6:15:33  \n",
       "2   9:21:25  \n",
       "3  15:04:53  \n",
       "4  15:49:06  "
      ]
     },
     "execution_count": 54,
     "metadata": {},
     "output_type": "execute_result"
    }
   ],
   "source": [
    "####\n",
    "import pandas as pd\n",
    "import numpy as np\n",
    "from matplotlib import pyplot as plt\n",
    "file_path =r\"D:\\学习\\项目练习\\淘宝用户行为分析\\cleaned_data.csv\"\n",
    "data=pd.read_csv(file_path)\n",
    "data.head()"
   ]
  },
  {
   "cell_type": "code",
   "execution_count": 55,
   "id": "e5c77a30",
   "metadata": {},
   "outputs": [
    {
     "data": {
      "text/html": [
       "<div>\n",
       "<style scoped>\n",
       "    .dataframe tbody tr th:only-of-type {\n",
       "        vertical-align: middle;\n",
       "    }\n",
       "\n",
       "    .dataframe tbody tr th {\n",
       "        vertical-align: top;\n",
       "    }\n",
       "\n",
       "    .dataframe thead th {\n",
       "        text-align: right;\n",
       "    }\n",
       "</style>\n",
       "<table border=\"1\" class=\"dataframe\">\n",
       "  <thead>\n",
       "    <tr style=\"text-align: right;\">\n",
       "      <th></th>\n",
       "      <th>用户数量</th>\n",
       "      <th>产品数量</th>\n",
       "      <th>产品种类数量</th>\n",
       "      <th>统计天数</th>\n",
       "    </tr>\n",
       "  </thead>\n",
       "  <tbody>\n",
       "    <tr>\n",
       "      <th>1</th>\n",
       "      <td>10202</td>\n",
       "      <td>412219</td>\n",
       "      <td>5856</td>\n",
       "      <td>9</td>\n",
       "    </tr>\n",
       "  </tbody>\n",
       "</table>\n",
       "</div>"
      ],
      "text/plain": [
       "    用户数量    产品数量  产品种类数量  统计天数\n",
       "1  10202  412219    5856     9"
      ]
     },
     "execution_count": 55,
     "metadata": {},
     "output_type": "execute_result"
    }
   ],
   "source": [
    "describe1=pd.DataFrame({\"用户数量\":len(set(list(data[\"User_Id\"]))),\"产品数量\":len(set(list(data[\"Item_Id\"]))),\"产品种类数量\":len(set(list(data[\"Category_Id\"]))),\"统计天数\":len(set(list(data[\"Date\"])))},index=['1'])\n",
    "describe1"
   ]
  },
  {
   "cell_type": "code",
   "execution_count": 59,
   "id": "5bbceb80",
   "metadata": {},
   "outputs": [
    {
     "ename": "ValueError",
     "evalue": "index cannot be a set",
     "output_type": "error",
     "traceback": [
      "\u001b[1;31m---------------------------------------------------------------------------\u001b[0m",
      "\u001b[1;31mValueError\u001b[0m                                Traceback (most recent call last)",
      "Cell \u001b[1;32mIn[59], line 2\u001b[0m\n\u001b[0;32m      1\u001b[0m describe3 \u001b[38;5;241m=\u001b[39m data\u001b[38;5;241m.\u001b[39mloc[:,[\u001b[38;5;124m\"\u001b[39m\u001b[38;5;124mUser_Id\u001b[39m\u001b[38;5;124m\"\u001b[39m,\u001b[38;5;124m\"\u001b[39m\u001b[38;5;124mBehavior_type\u001b[39m\u001b[38;5;124m\"\u001b[39m]]\n\u001b[1;32m----> 2\u001b[0m ids \u001b[38;5;241m=\u001b[39m pd\u001b[38;5;241m.\u001b[39mDataFrame(np\u001b[38;5;241m.\u001b[39mzeros(\u001b[38;5;28mlen\u001b[39m(\u001b[38;5;28mset\u001b[39m(\u001b[38;5;28mlist\u001b[39m(data[\u001b[38;5;124m\"\u001b[39m\u001b[38;5;124mUser_Id\u001b[39m\u001b[38;5;124m\"\u001b[39m])))),index\u001b[38;5;241m=\u001b[39m\u001b[38;5;28mset\u001b[39m(\u001b[38;5;28mlist\u001b[39m(data[\u001b[38;5;124m\"\u001b[39m\u001b[38;5;124mUser_Id\u001b[39m\u001b[38;5;124m\"\u001b[39m])))\n\u001b[0;32m      3\u001b[0m pv_class\u001b[38;5;241m=\u001b[39mdescribe3[describe3[\u001b[38;5;124m\"\u001b[39m\u001b[38;5;124mBehavior_type\u001b[39m\u001b[38;5;124m\"\u001b[39m]\u001b[38;5;241m==\u001b[39m\u001b[38;5;124m\"\u001b[39m\u001b[38;5;124mpv\u001b[39m\u001b[38;5;124m\"\u001b[39m]\u001b[38;5;241m.\u001b[39mgroupby(\u001b[38;5;124m\"\u001b[39m\u001b[38;5;124mUser_Id\u001b[39m\u001b[38;5;124m\"\u001b[39m)\u001b[38;5;241m.\u001b[39mcount()\n\u001b[0;32m      4\u001b[0m pv_class\u001b[38;5;241m.\u001b[39mcolumns  \u001b[38;5;241m=\u001b[39m [\u001b[38;5;124m\"\u001b[39m\u001b[38;5;124mpv\u001b[39m\u001b[38;5;124m\"\u001b[39m]\n",
      "File \u001b[1;32mD:\\anaconda\\Lib\\site-packages\\pandas\\core\\frame.py:638\u001b[0m, in \u001b[0;36mDataFrame.__init__\u001b[1;34m(self, data, index, columns, dtype, copy)\u001b[0m\n\u001b[0;32m    636\u001b[0m \u001b[38;5;66;03m# GH47215\u001b[39;00m\n\u001b[0;32m    637\u001b[0m \u001b[38;5;28;01mif\u001b[39;00m index \u001b[38;5;129;01mis\u001b[39;00m \u001b[38;5;129;01mnot\u001b[39;00m \u001b[38;5;28;01mNone\u001b[39;00m \u001b[38;5;129;01mand\u001b[39;00m \u001b[38;5;28misinstance\u001b[39m(index, \u001b[38;5;28mset\u001b[39m):\n\u001b[1;32m--> 638\u001b[0m     \u001b[38;5;28;01mraise\u001b[39;00m \u001b[38;5;167;01mValueError\u001b[39;00m(\u001b[38;5;124m\"\u001b[39m\u001b[38;5;124mindex cannot be a set\u001b[39m\u001b[38;5;124m\"\u001b[39m)\n\u001b[0;32m    639\u001b[0m \u001b[38;5;28;01mif\u001b[39;00m columns \u001b[38;5;129;01mis\u001b[39;00m \u001b[38;5;129;01mnot\u001b[39;00m \u001b[38;5;28;01mNone\u001b[39;00m \u001b[38;5;129;01mand\u001b[39;00m \u001b[38;5;28misinstance\u001b[39m(columns, \u001b[38;5;28mset\u001b[39m):\n\u001b[0;32m    640\u001b[0m     \u001b[38;5;28;01mraise\u001b[39;00m \u001b[38;5;167;01mValueError\u001b[39;00m(\u001b[38;5;124m\"\u001b[39m\u001b[38;5;124mcolumns cannot be a set\u001b[39m\u001b[38;5;124m\"\u001b[39m)\n",
      "\u001b[1;31mValueError\u001b[0m: index cannot be a set"
     ]
    }
   ],
   "source": [
    "describe3 = data.loc[:,[\"User_Id\",\"Behavior_type\"]]\n",
    "ids = pd.DataFrame(np.zeros(len(set(list(data[\"User_Id\"])))),index=set(list(data[\"User_Id\"])))\n",
    "pv_class=describe3[describe3[\"Behavior_type\"]==\"pv\"].groupby(\"User_Id\").count()\n",
    "pv_class.columns  = [\"pv\"]\n",
    "buy_class=describe3[describe3[\"Behavior_type\"]==\"buy\"].groupby(\"User_Id\").count()\n",
    "buy_class.columns  = [\"buy\"]\n",
    "fav_class=describe3[describe3[\"Behavior_type\"]==\"fav\"].groupby(\"User_Id\").count()\n",
    "fav_class.columns  = [\"fav\"]\n",
    "cart_class=describe3[describe3[\"Behavior_type\"]==\"cart\"].groupby(\"User_Id\").count()\n",
    "cart_class.columns  = [\"cart\"]\n",
    "\n",
    "user_behavior_counts=ids.join(pv_class).join(fav_class).join(cart_class).join(buy_class).iloc[:,1:]\n",
    "user_behavior_counts.head()"
   ]
  },
  {
   "cell_type": "code",
   "execution_count": null,
   "id": "da516256",
   "metadata": {},
   "outputs": [],
   "source": []
  }
 ],
 "metadata": {
  "kernelspec": {
   "display_name": "Python 3 (ipykernel)",
   "language": "python",
   "name": "python3"
  },
  "language_info": {
   "codemirror_mode": {
    "name": "ipython",
    "version": 3
   },
   "file_extension": ".py",
   "mimetype": "text/x-python",
   "name": "python",
   "nbconvert_exporter": "python",
   "pygments_lexer": "ipython3",
   "version": "3.11.3"
  }
 },
 "nbformat": 4,
 "nbformat_minor": 5
}
